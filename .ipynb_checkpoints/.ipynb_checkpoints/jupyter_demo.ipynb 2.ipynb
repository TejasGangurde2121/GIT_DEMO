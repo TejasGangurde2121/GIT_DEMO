{
 "cells": [
  {
   "cell_type": "code",
   "execution_count": null,
   "id": "effa4dcc",
   "metadata": {},
   "outputs": [],
   "source": [
    "\"hello\""
   ]
  },
  {
   "cell_type": "code",
   "execution_count": 2,
   "id": "cf949c96",
   "metadata": {},
   "outputs": [
    {
     "data": {
      "text/plain": [
       "'hello world'"
      ]
     },
     "execution_count": 2,
     "metadata": {},
     "output_type": "execute_result"
    }
   ],
   "source": [
    "\"hello world\""
   ]
  },
  {
   "cell_type": "markdown",
   "id": "216fac8f",
   "metadata": {},
   "source": [
    "# header 1 like h1 in html\n",
    "## header 2 like h2 in html\n",
    "### header 3 like h3 in html\n",
    "#### header 4 like h4 in html\n",
    "##### header 5 like h5 in html\n",
    "###### header 6 like h6 in html"
   ]
  },
  {
   "cell_type": "markdown",
   "id": "aab64557",
   "metadata": {},
   "source": [
    "**Python** is a high-level, ```general-purpose``` programming language. Its design philosophy emphasizes code readability with the use of significant indentation. __Python__ is dynamically-typed and garbage-collected.\n",
    "\n",
    ">It supports multiple programming paradigms, including structured, object-oriented and ~~functional programming.~~\n",
    "\n",
    "This is subscript type<sub>1</sub>\n",
    "\n",
    "This is superscript type ax<sup>2</sup>\n",
    "\n",
    "\n",
    "- George Washington\n",
    "- John Adams\n",
    "- Thomas Jefferson\n",
    "\n",
    "1. First list item\n",
    "   - First nested list item\n",
    "     - Second nested list item\n",
    "     \n",
    "\n",
    "- [x] #739\n",
    "- [x] https://github.com/octo-org/octo-repo/issues/740\n",
    "- [ ] Add delight to the experience when all tasks are complete :tada:\n",
    "\n",
    "@github/support  What do you think about these updates? \n",
    "\n",
    "@octocat :+1: This "
   ]
  },
  {
   "cell_type": "markdown",
   "id": "e198807d",
   "metadata": {},
   "source": [
    "| Batch1  | Batch2 |\n",
    "| ------------- | ------------- |\n",
    "| Madhav  | Tejas  |\n",
    "| Sagar  | Sagar  |\n",
    "\n",
    "\n",
    "| Left-aligned | Center-aligned | Right-aligned |\n",
    "| :---         |     :---:      |          ---: |\n",
    "| git status   | git status     | git status    |\n",
    "| git diff     | git diff       | git diff      |"
   ]
  },
  {
   "cell_type": "markdown",
   "id": "d036c557",
   "metadata": {},
   "source": [
    "<details><summary>CLICK ME</summary>\n",
    "<p>\n",
    "\n",
    "#### We can hide anything, even code!\n",
    "\n",
    "```python\n",
    "   print(\"Hello World\")\n",
    "```\n",
    "\n",
    "</p>\n",
    "</details>"
   ]
  },
  {
   "cell_type": "markdown",
   "id": "914a7311",
   "metadata": {},
   "source": [
    "This sentence uses `$` delimiters to show math inline:  $\\sqrt{3x-1}+(1+x)^2$\n",
    "\n",
    "<picture>\n",
    "  <source media=\"(prefers-color-scheme: dark)\" srcset=\"https://user-images.githubusercontent.com/25423296/163456776-7f95b81a-f1ed-45f7-b7ab-8fa810d529fa.png\">\n",
    "  <source media=\"(prefers-color-scheme: light)\" srcset=\"https://user-images.githubusercontent.com/25423296/163456779-a8556205-d0a5-45e2-ac17-42d089e3c3f8.png\">\n",
    "  <img alt=\"Shows an illustrated sun in light mode and a moon with stars in dark mode.\" src=\"https://user-images.githubusercontent.com/25423296/163456779-a8556205-d0a5-45e2-ac17-42d089e3c3f8.png\">\n",
    "</picture>\n",
    "\n",
    "\n",
    "## About me\n",
    "\n",
    "Hi, I'm Mona. You might recognize me as GitHub's mascot.\n",
    "\n",
    "| Rank | Languages |\n",
    "|-----:|-----------|\n",
    "|     1| Javascript|\n",
    "|     2| Python    |\n",
    "|     3| SQL       |"
   ]
  },
  {
   "cell_type": "code",
   "execution_count": 3,
   "id": "d40feb90",
   "metadata": {},
   "outputs": [
    {
     "name": "stdout",
     "output_type": "stream",
     "text": [
      "b'\\x80\\x04\\x95\\x17\\x00\\x00\\x00\\x00\\x00\\x00\\x00}\\x94(\\x8c\\x01a\\x94K\\n\\x8c\\x01b\\x94K\\x14\\x8c\\x01c\\x94K\\x1eu.'\n",
      "{'a': 10, 'b': 20, 'c': 30}\n"
     ]
    }
   ],
   "source": [
    "import pickle\n",
    "\n",
    "d={'a':10,'b':20,'c':30}       \n",
    "\n",
    "b1=pickle.dumps(d)\n",
    "print(b1)\n",
    "\n",
    "d1=pickle.loads(b1)\n",
    "print(d1)#{'a': 10, 'b': 20, 'c': 30}"
   ]
  },
  {
   "cell_type": "code",
   "execution_count": 4,
   "id": "f0713edb",
   "metadata": {},
   "outputs": [
    {
     "name": "stdout",
     "output_type": "stream",
     "text": [
      "    *\n",
      "   ***\n",
      "  *****\n",
      " *******\n",
      "*********\n",
      " *******\n",
      "  *****\n",
      "   ***\n",
      "    *\n"
     ]
    }
   ],
   "source": [
    "for i in range(1,6):\n",
    "    print(' '*(5-i)+\"*\"*i+\"*\"*(i-1))\n",
    "for j in range(4,0,-1):\n",
    "    print(' '*(5-j)+\"*\"*j+\"*\"*(j-1))\n",
    "    "
   ]
  },
  {
   "cell_type": "code",
   "execution_count": 5,
   "id": "b71ca0ae",
   "metadata": {},
   "outputs": [
    {
     "data": {
      "text/plain": [
       "{'a': 10, 'b': 20, 'c': 30}"
      ]
     },
     "execution_count": 5,
     "metadata": {},
     "output_type": "execute_result"
    }
   ],
   "source": [
    "d1"
   ]
  },
  {
   "cell_type": "code",
   "execution_count": null,
   "id": "337fe235",
   "metadata": {},
   "outputs": [],
   "source": []
  }
 ],
 "metadata": {
  "kernelspec": {
   "display_name": "Python 3 (ipykernel)",
   "language": "python",
   "name": "python3"
  },
  "language_info": {
   "codemirror_mode": {
    "name": "ipython",
    "version": 3
   },
   "file_extension": ".py",
   "mimetype": "text/x-python",
   "name": "python",
   "nbconvert_exporter": "python",
   "pygments_lexer": "ipython3",
   "version": "3.10.2"
  }
 },
 "nbformat": 4,
 "nbformat_minor": 5
}
