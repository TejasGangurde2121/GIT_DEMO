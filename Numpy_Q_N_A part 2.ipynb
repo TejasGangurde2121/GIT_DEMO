{
 "cells": [
  {
   "cell_type": "code",
   "execution_count": null,
   "id": "e67462b6",
   "metadata": {},
   "outputs": [],
   "source": [
    "import numpy as np"
   ]
  },
  {
   "cell_type": "code",
   "execution_count": null,
   "id": "d6b28d7c",
   "metadata": {},
   "outputs": [],
   "source": [
    "arr_rand = np.array([8, 8, 3, 7, 7, 0, 4, 2, 5, 2])\n",
    "print(\"Array:\",arr_rand)"
   ]
  },
  {
   "cell_type": "code",
   "execution_count": null,
   "id": "d7786e4c",
   "metadata": {},
   "outputs": [],
   "source": [
    "# Positions where value > 5\n",
    "index_gt5 = np.where(arr_rand > 5)\n",
    "print(\"Positions where value > 5: \", index_gt5)\n"
   ]
  },
  {
   "cell_type": "code",
   "execution_count": null,
   "id": "0639e065",
   "metadata": {},
   "outputs": [],
   "source": [
    "# Take items at given index\n",
    "arr_rand.take(index_gt5)"
   ]
  },
  {
   "cell_type": "code",
   "execution_count": null,
   "id": "6d1aa290",
   "metadata": {},
   "outputs": [],
   "source": [
    "# If value > 5, then yield 'gt5' else 'le5'\n",
    "np.where(arr_rand > 5, 'gt5', 'le5')"
   ]
  },
  {
   "cell_type": "code",
   "execution_count": null,
   "id": "af2db420",
   "metadata": {},
   "outputs": [],
   "source": [
    "# Location of the max\n",
    "print('Position of max value: ', np.argmax(arr_rand)) \n",
    "# Location of the min\n",
    "print('Position of min value: ', np.argmin(arr_rand)) \n"
   ]
  },
  {
   "cell_type": "code",
   "execution_count": 34,
   "id": "5871acbc",
   "metadata": {},
   "outputs": [
    {
     "name": "stdout",
     "output_type": "stream",
     "text": [
      "[[0. 0. 0. 0.]\n",
      " [0. 0. 0. 0.]\n",
      " [0. 0. 0. 0.]\n",
      " [0. 0. 0. 0.]]\n",
      "[[1. 1. 1. 1.]\n",
      " [1. 1. 1. 1.]\n",
      " [1. 1. 1. 1.]\n",
      " [1. 1. 1. 1.]]\n"
     ]
    }
   ],
   "source": [
    "a = np.zeros([4, 4])\n",
    "b = np.ones([4, 4])\n",
    "print(a)\n",
    "print(b)\n"
   ]
  },
  {
   "cell_type": "code",
   "execution_count": 35,
   "id": "d8c422e9",
   "metadata": {},
   "outputs": [
    {
     "data": {
      "text/plain": [
       "array([[0., 0., 0., 0.],\n",
       "       [0., 0., 0., 0.],\n",
       "       [0., 0., 0., 0.],\n",
       "       [0., 0., 0., 0.],\n",
       "       [1., 1., 1., 1.],\n",
       "       [1., 1., 1., 1.],\n",
       "       [1., 1., 1., 1.],\n",
       "       [1., 1., 1., 1.]])"
      ]
     },
     "execution_count": 35,
     "metadata": {},
     "output_type": "execute_result"
    }
   ],
   "source": [
    "# Vertical Stack Equivalents (Row wise)\n",
    "np.concatenate([a, b], axis=0) \n",
    "np.vstack([a,b]) \n",
    "np.r_[a,b] "
   ]
  },
  {
   "cell_type": "code",
   "execution_count": 38,
   "id": "0174d604",
   "metadata": {},
   "outputs": [
    {
     "data": {
      "text/plain": [
       "array([[0., 0., 0., 0., 1., 1., 1., 1.],\n",
       "       [0., 0., 0., 0., 1., 1., 1., 1.],\n",
       "       [0., 0., 0., 0., 1., 1., 1., 1.],\n",
       "       [0., 0., 0., 0., 1., 1., 1., 1.]])"
      ]
     },
     "execution_count": 38,
     "metadata": {},
     "output_type": "execute_result"
    }
   ],
   "source": [
    "# Horizontal Stack Equivalents (Coliumn wise)\n",
    "np.concatenate([a, b], axis=1)\n",
    "np.hstack([a,b]) \n",
    "np.c_[a,b]"
   ]
  },
  {
   "cell_type": "code",
   "execution_count": 39,
   "id": "967bcea5",
   "metadata": {},
   "outputs": [
    {
     "data": {
      "text/plain": [
       "array([1, 2, 3, 0, 0, 4, 5, 6])"
      ]
     },
     "execution_count": 39,
     "metadata": {},
     "output_type": "execute_result"
    }
   ],
   "source": [
    "np.r_[[1,2,3], 0, 0, [4,5,6]]\n"
   ]
  },
  {
   "cell_type": "code",
   "execution_count": 40,
   "id": "6b5aa5ae",
   "metadata": {},
   "outputs": [
    {
     "data": {
      "text/plain": [
       "array([[1, 5, 3, 3],\n",
       "       [3, 4, 3, 4],\n",
       "       [3, 5, 2, 3],\n",
       "       [4, 2, 4, 2],\n",
       "       [2, 4, 3, 3],\n",
       "       [3, 3, 5, 1],\n",
       "       [1, 2, 2, 4],\n",
       "       [5, 2, 4, 5]])"
      ]
     },
     "execution_count": 40,
     "metadata": {},
     "output_type": "execute_result"
    }
   ],
   "source": [
    "arr = np.random.randint(1,6, size=[8, 4])\n",
    "arr"
   ]
  },
  {
   "cell_type": "code",
   "execution_count": 41,
   "id": "ba2f90bf",
   "metadata": {},
   "outputs": [
    {
     "data": {
      "text/plain": [
       "array([[1, 2, 2, 1],\n",
       "       [1, 2, 2, 2],\n",
       "       [2, 2, 3, 3],\n",
       "       [3, 3, 3, 3],\n",
       "       [3, 4, 3, 3],\n",
       "       [3, 4, 4, 4],\n",
       "       [4, 5, 4, 4],\n",
       "       [5, 5, 5, 5]])"
      ]
     },
     "execution_count": 41,
     "metadata": {},
     "output_type": "execute_result"
    }
   ],
   "source": [
    "# Sort each columns of arr\n",
    "np.sort(arr, axis=0)\n"
   ]
  },
  {
   "cell_type": "code",
   "execution_count": 42,
   "id": "650471e8",
   "metadata": {},
   "outputs": [
    {
     "name": "stdout",
     "output_type": "stream",
     "text": [
      "[0 3 2 4 5 1]\n"
     ]
    }
   ],
   "source": [
    "x = np.array([1, 10, 5, 2, 8, 9])\n",
    "sort_index = np.argsort(x)\n",
    "print(sort_index)"
   ]
  },
  {
   "cell_type": "code",
   "execution_count": 43,
   "id": "7f32f676",
   "metadata": {},
   "outputs": [
    {
     "data": {
      "text/plain": [
       "array([ 1,  2,  5,  8,  9, 10])"
      ]
     },
     "execution_count": 43,
     "metadata": {},
     "output_type": "execute_result"
    }
   ],
   "source": [
    "x[sort_index]"
   ]
  },
  {
   "cell_type": "code",
   "execution_count": 44,
   "id": "590023f1",
   "metadata": {},
   "outputs": [
    {
     "data": {
      "text/plain": [
       "array([[1, 5, 3, 3],\n",
       "       [1, 2, 2, 4],\n",
       "       [2, 4, 3, 3],\n",
       "       [3, 4, 3, 4],\n",
       "       [3, 5, 2, 3],\n",
       "       [3, 3, 5, 1],\n",
       "       [4, 2, 4, 2],\n",
       "       [5, 2, 4, 5]])"
      ]
     },
     "execution_count": 44,
     "metadata": {},
     "output_type": "execute_result"
    }
   ],
   "source": [
    "# Argsort the first column\n",
    "sorted_index_1stcol = arr[:, 0].argsort()\n",
    "# Sort 'arr' by first column without disturbing the integrity of rows\n",
    "arr[sorted_index_1stcol]"
   ]
  },
  {
   "cell_type": "code",
   "execution_count": 45,
   "id": "2da3127d",
   "metadata": {},
   "outputs": [
    {
     "data": {
      "text/plain": [
       "array([[5, 2, 4, 5],\n",
       "       [4, 2, 4, 2],\n",
       "       [3, 3, 5, 1],\n",
       "       [3, 5, 2, 3],\n",
       "       [3, 4, 3, 4],\n",
       "       [2, 4, 3, 3],\n",
       "       [1, 2, 2, 4],\n",
       "       [1, 5, 3, 3]])"
      ]
     },
     "execution_count": 45,
     "metadata": {},
     "output_type": "execute_result"
    }
   ],
   "source": [
    "# Descending sort\n",
    "arr[sorted_index_1stcol[::-1]]"
   ]
  },
  {
   "cell_type": "code",
   "execution_count": 46,
   "id": "cb583915",
   "metadata": {},
   "outputs": [
    {
     "data": {
      "text/plain": [
       "array([[1, 2, 2, 4],\n",
       "       [1, 5, 3, 3],\n",
       "       [2, 4, 3, 3],\n",
       "       [3, 3, 5, 1],\n",
       "       [3, 4, 3, 4],\n",
       "       [3, 5, 2, 3],\n",
       "       [4, 2, 4, 2],\n",
       "       [5, 2, 4, 5]])"
      ]
     },
     "execution_count": 46,
     "metadata": {},
     "output_type": "execute_result"
    }
   ],
   "source": [
    "# Sort by column 0, then by column 1\n",
    "lexsorted_index = np.lexsort((arr[:, 1], arr[:, 0]))\n",
    "arr[lexsorted_index]"
   ]
  },
  {
   "cell_type": "code",
   "execution_count": 47,
   "id": "05cd85f3",
   "metadata": {},
   "outputs": [
    {
     "data": {
      "text/plain": [
       "numpy.datetime64('2018-02-04T23:10:10')"
      ]
     },
     "execution_count": 47,
     "metadata": {},
     "output_type": "execute_result"
    }
   ],
   "source": [
    "# Create a datetime64 object\n",
    "date64 = np.datetime64('2018-02-04 23:10:10')\n",
    "date64"
   ]
  },
  {
   "cell_type": "code",
   "execution_count": 48,
   "id": "35151483",
   "metadata": {},
   "outputs": [
    {
     "data": {
      "text/plain": [
       "numpy.datetime64('2018-02-04')"
      ]
     },
     "execution_count": 48,
     "metadata": {},
     "output_type": "execute_result"
    }
   ],
   "source": [
    "# Drop the time part from the datetime64 object\n",
    "dt64 = np.datetime64(date64, 'D')\n",
    "dt64"
   ]
  },
  {
   "cell_type": "code",
   "execution_count": 49,
   "id": "c091be58",
   "metadata": {},
   "outputs": [
    {
     "name": "stdout",
     "output_type": "stream",
     "text": [
      "Add 10 days:  2018-02-14\n",
      "Add 10 minutes:  2018-02-04T00:10\n",
      "Add 10 seconds:  2018-02-04T00:00:10\n",
      "Add 10 nanoseconds:  2018-02-04T00:00:00.000000010\n"
     ]
    }
   ],
   "source": [
    "# Create the timedeltas (individual units of time)\n",
    "tenminutes = np.timedelta64(10, 'm') # 10 minutes\n",
    "tenseconds = np.timedelta64(10, 's') # 10 seconds\n",
    "tennanoseconds = np.timedelta64(10, 'ns') # 10 nanoseconds\n",
    "print('Add 10 days: ', dt64 + 10)\n",
    "print('Add 10 minutes: ', dt64 + tenminutes)\n",
    "print('Add 10 seconds: ', dt64 + tenseconds)\n",
    "print('Add 10 nanoseconds: ', dt64 + tennanoseconds)\n"
   ]
  },
  {
   "cell_type": "code",
   "execution_count": 50,
   "id": "1883e4c0",
   "metadata": {},
   "outputs": [
    {
     "data": {
      "text/plain": [
       "'2018-02-04'"
      ]
     },
     "execution_count": 50,
     "metadata": {},
     "output_type": "execute_result"
    }
   ],
   "source": [
    "# Convert np.datetime64 back to a string\n",
    "np.datetime_as_string(dt64)"
   ]
  },
  {
   "cell_type": "code",
   "execution_count": 53,
   "id": "90d39f12",
   "metadata": {},
   "outputs": [
    {
     "name": "stdout",
     "output_type": "stream",
     "text": [
      "Date:  2018-02-04\n",
      "Is it a business day?:  False\n",
      "Add 2 business days, rolling forward to nearest biz day:  2018-02-07\n",
      "Add 2 business days, rolling backward to nearest biz day:  2018-02-06\n"
     ]
    }
   ],
   "source": [
    "print('Date: ', dt64)\n",
    "print(\"Is it a business day?: \", np.is_busday(dt64)) \n",
    "print(\"Add 2 business days, rolling forward to nearest biz day: \", np.busday_offset(dt64, 2, roll='forward'))  \n",
    "print(\"Add 2 business days, rolling backward to nearest biz day: \", np.busday_offset(dt64, 2, roll='backward')) \n",
    "#> Date: 2018-02-04\n",
    "#> Is it a business day?: False\n",
    "#> Add 2 business days, rolling forward to nearest biz day: 2018-02-07\n",
    "#> Add 2 business days, rolling backward to nearest biz day: 2018-02-06"
   ]
  },
  {
   "cell_type": "code",
   "execution_count": null,
   "id": "90cf9ffb",
   "metadata": {},
   "outputs": [],
   "source": []
  }
 ],
 "metadata": {
  "kernelspec": {
   "display_name": "Python 3 (ipykernel)",
   "language": "python",
   "name": "python3"
  },
  "language_info": {
   "codemirror_mode": {
    "name": "ipython",
    "version": 3
   },
   "file_extension": ".py",
   "mimetype": "text/x-python",
   "name": "python",
   "nbconvert_exporter": "python",
   "pygments_lexer": "ipython3",
   "version": "3.10.6"
  }
 },
 "nbformat": 4,
 "nbformat_minor": 5
}
